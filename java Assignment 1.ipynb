{
 "cells": [
  {
   "cell_type": "code",
   "execution_count": null,
   "id": "d34abfb1",
   "metadata": {},
   "outputs": [],
   "source": [
    "1 . What is the difference between Compiler and Interpreter ?"
   ]
  },
  {
   "cell_type": "code",
   "execution_count": null,
   "id": "db50b9e2",
   "metadata": {},
   "outputs": [],
   "source": [
    "A Compiler takes a program as a whole. An Interpreter takes single lines of a code. \n",
    "The Compilers generate intermediate machine codes. The Interpreters never generate any intermediate machine codes."
   ]
  },
  {
   "cell_type": "code",
   "execution_count": null,
   "id": "51927af9",
   "metadata": {},
   "outputs": [],
   "source": [
    "Q2.What is the difference between JDK, JRE, and JVM?"
   ]
  },
  {
   "cell_type": "code",
   "execution_count": null,
   "id": "3b1fbeed",
   "metadata": {},
   "outputs": [],
   "source": [
    "JDK is for development purpose whereas JRE is for running the java programs. \n",
    "JDK and JRE both contains JVM so that we can run our java program. \n",
    "JVM is the heart of java programming language and provides platform independence."
   ]
  },
  {
   "cell_type": "code",
   "execution_count": null,
   "id": "fe076389",
   "metadata": {},
   "outputs": [],
   "source": [
    "Q3.How many types of memory areas are allocated by JVM?"
   ]
  },
  {
   "cell_type": "code",
   "execution_count": null,
   "id": "f4494573",
   "metadata": {},
   "outputs": [],
   "source": [
    "The memory in the JVM is divided into five different parts namely− Method area− The method area stores the class code − code of the variables and methods.\n",
    "Heap − The Java objects are created in this area.\n",
    "Java Stack− While running methods the results are stored in the stack memory."
   ]
  },
  {
   "cell_type": "code",
   "execution_count": null,
   "id": "d25c93bd",
   "metadata": {},
   "outputs": [],
   "source": [
    "Q4.What is JIT compiler?"
   ]
  },
  {
   "cell_type": "code",
   "execution_count": null,
   "id": "e08295d4",
   "metadata": {},
   "outputs": [],
   "source": [
    "The JIT compiler helps improve the performance of Java programs by compiling bytecodes into native machine code at run time.\n",
    "The JIT compiler is enabled by default. \n",
    "When a method has been compiled, the JVM calls the compiled code of that method directly instead of interpreting it."
   ]
  },
  {
   "cell_type": "code",
   "execution_count": null,
   "id": "7816c4d6",
   "metadata": {},
   "outputs": [],
   "source": [
    "Q5.What are the various access specifiers in Java?"
   ]
  },
  {
   "cell_type": "code",
   "execution_count": null,
   "id": "d7ff8d6b",
   "metadata": {},
   "outputs": [],
   "source": [
    "There are four access modifiers in Java, namely: public, protected, private, and default"
   ]
  },
  {
   "cell_type": "code",
   "execution_count": null,
   "id": "bc90707f",
   "metadata": {},
   "outputs": [],
   "source": [
    "Q6.What is a compiler in Java?"
   ]
  },
  {
   "cell_type": "code",
   "execution_count": null,
   "id": "ef35bfaa",
   "metadata": {},
   "outputs": [],
   "source": [
    "A Java compiler is a program that takes the text file work of a developer and compiles it into a platform-independent Java file.\n",
    "Java compilers include the Java Programming Language Compiler (javac), the GNU Compiler for Java (GCJ), the Eclipse Compiler for Java (ECJ) and Jikes."
   ]
  },
  {
   "cell_type": "code",
   "execution_count": null,
   "id": "c6e4e64d",
   "metadata": {},
   "outputs": [],
   "source": [
    "Q7.Explain the types of variables in Java?"
   ]
  },
  {
   "cell_type": "code",
   "execution_count": null,
   "id": "bc508faa",
   "metadata": {},
   "outputs": [],
   "source": [
    "A variable is assigned with a data type. \n",
    "Variable is a name of memory location. There are three types of variables in java: local, instance and static.\n",
    "There are two types of data types in Java: primitive and non-primitive."
   ]
  },
  {
   "cell_type": "code",
   "execution_count": null,
   "id": "b449118d",
   "metadata": {},
   "outputs": [],
   "source": [
    "Q8.What are the Datatypes in Java?"
   ]
  },
  {
   "cell_type": "code",
   "execution_count": null,
   "id": "2c395e15",
   "metadata": {},
   "outputs": [],
   "source": [
    " byte , short , int , long , float , double , boolean and char"
   ]
  },
  {
   "cell_type": "code",
   "execution_count": null,
   "id": "4ad63e69",
   "metadata": {},
   "outputs": [],
   "source": [
    "Q9.What are the identifiers in java?"
   ]
  },
  {
   "cell_type": "code",
   "execution_count": null,
   "id": "fa7fc4a7",
   "metadata": {},
   "outputs": [],
   "source": [
    "Identifiers in Java are symbolic names used for identification.\n",
    "They can be a class name, variable name, method name, package name, constant name, and more. However, In Java,\n",
    "There are some reserved words that can not be used as an identifier."
   ]
  },
  {
   "cell_type": "code",
   "execution_count": null,
   "id": "68455d81",
   "metadata": {},
   "outputs": [],
   "source": [
    "Q10.Explain the architecture of JVM "
   ]
  },
  {
   "cell_type": "code",
   "execution_count": null,
   "id": "4461e349",
   "metadata": {},
   "outputs": [],
   "source": [
    "Java Architecture is internally basically divided into seven segments.\n",
    "It contains a classloader, memory area, execution, etc. \n",
    "Classloader: it's a subsystem of JVM used to load class files. When we execute the code, it's loaded by the classloader."
   ]
  }
 ],
 "metadata": {
  "kernelspec": {
   "display_name": "Python 3 (ipykernel)",
   "language": "python",
   "name": "python3"
  },
  "language_info": {
   "codemirror_mode": {
    "name": "ipython",
    "version": 3
   },
   "file_extension": ".py",
   "mimetype": "text/x-python",
   "name": "python",
   "nbconvert_exporter": "python",
   "pygments_lexer": "ipython3",
   "version": "3.9.12"
  }
 },
 "nbformat": 4,
 "nbformat_minor": 5
}
